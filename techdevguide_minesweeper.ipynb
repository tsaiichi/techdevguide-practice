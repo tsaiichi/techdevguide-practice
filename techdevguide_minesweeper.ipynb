{
  "nbformat": 4,
  "nbformat_minor": 0,
  "metadata": {
    "colab": {
      "name": "techdevguide-minesweeper",
      "version": "0.3.2",
      "provenance": [],
      "collapsed_sections": [],
      "include_colab_link": true
    },
    "kernelspec": {
      "name": "python3",
      "display_name": "Python 3"
    }
  },
  "cells": [
    {
      "cell_type": "markdown",
      "metadata": {
        "id": "view-in-github",
        "colab_type": "text"
      },
      "source": [
        "<a href=\"https://colab.research.google.com/github/tsaiichi/techdevguide-practice/blob/master/techdevguide_minesweeper.ipynb\" target=\"_parent\"><img src=\"https://colab.research.google.com/assets/colab-badge.svg\" alt=\"Open In Colab\"/></a>"
      ]
    },
    {
      "metadata": {
        "id": "vTvh3GwX91su",
        "colab_type": "text"
      },
      "cell_type": "markdown",
      "source": [
        "# Former Coding Interview Question: Minesweeper\n",
        "- from https://techdevguide.withgoogle.com/resources/coding-question-minesweeper/"
      ]
    },
    {
      "metadata": {
        "id": "d_sICXxCGFcd",
        "colab_type": "code",
        "colab": {}
      },
      "cell_type": "code",
      "source": [
        "!python --version"
      ],
      "execution_count": 0,
      "outputs": []
    },
    {
      "metadata": {
        "id": "Qz8sVQ_eIYwN",
        "colab_type": "text"
      },
      "cell_type": "markdown",
      "source": [
        "# 官網的參考答案\n",
        "- 只有產生地圖的主程式\n",
        "- place_mine 自己腦補\n",
        "- 有 c++ 的版本是包含玩遊戲的盤面變化"
      ]
    },
    {
      "metadata": {
        "id": "2sKXQJzSN9G2",
        "colab_type": "code",
        "colab": {}
      },
      "cell_type": "code",
      "source": [
        "M, N = 5, 30\n",
        "W, H = 5,6\n",
        "\n",
        "\n",
        "def place_mine(field, n):\n",
        "    i, j = n//W, n%W\n",
        "    field[i][j] = 9\n",
        "    add_mine_count = lambda v: v+1 if v!=9 else 9\n",
        "    \n",
        "    # up\n",
        "    if i>0:\n",
        "        l = max(j-1, 0)\n",
        "        r = min(j+1, W-1)\n",
        "        for tmp in range(l, r+1):\n",
        "            v = field[i-1][tmp]\n",
        "            field[i-1][tmp] = add_mine_count(v)\n",
        "    # down\n",
        "    if i<H-1:\n",
        "        l = max(j-1, 0)\n",
        "        r = min(j+1, W-1)\n",
        "        for tmp in range(l, r+1):\n",
        "            v = field[i+1][tmp]\n",
        "            field[i+1][tmp] = add_mine_count(v)\n",
        "    # left\n",
        "    if j>0:\n",
        "        v = field[i][j-1]\n",
        "        field[i][j-1] = add_mine_count(v)\n",
        "    # right\n",
        "    if j<W-1:\n",
        "        v = field[i][j+1]\n",
        "        field[i][j+1] += add_mine_count(v)\n",
        "    \n",
        "    print(i, j)\n",
        "    return i, j"
      ],
      "execution_count": 0,
      "outputs": []
    },
    {
      "metadata": {
        "id": "DNIewjPKNn_I",
        "colab_type": "code",
        "colab": {
          "base_uri": "https://localhost:8080/",
          "height": 217
        },
        "outputId": "3b600843-97dc-4a90-99a7-b574a0407e04"
      },
      "cell_type": "code",
      "source": [
        "import random\n",
        "\n",
        "field = [[0]*W for _ in range(H)]\n",
        "remaining_mines = M \n",
        "remaining_cells = N \n",
        "for i in range(0, N): \n",
        "    chance = float(remaining_mines) / remaining_cells \n",
        "    if random.uniform(0., 1.) < chance: \n",
        "        place_mine(field, i) \n",
        "        remaining_mines -= 1 \n",
        "    remaining_cells -= 1\n",
        "\n",
        "print('\\n'.join([', '.join([str(cell) for cell in row]) for row in field]))"
      ],
      "execution_count": 37,
      "outputs": [
        {
          "output_type": "stream",
          "text": [
            "0 1\n",
            "2 4\n",
            "3 3\n",
            "4 3\n",
            "5 0\n",
            "1, 9, 1, 0, 0\n",
            "1, 1, 1, 1, 1\n",
            "0, 0, 1, 2, 9\n",
            "0, 0, 2, 9, 4\n",
            "1, 1, 2, 9, 3\n",
            "9, 1, 1, 1, 1\n"
          ],
          "name": "stdout"
        }
      ]
    },
    {
      "metadata": {
        "id": "ol_R2rskmhgw",
        "colab_type": "code",
        "colab": {}
      },
      "cell_type": "code",
      "source": [
        ""
      ],
      "execution_count": 0,
      "outputs": []
    }
  ]
}