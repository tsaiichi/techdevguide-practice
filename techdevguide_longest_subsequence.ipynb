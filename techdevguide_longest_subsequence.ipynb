{
  "nbformat": 4,
  "nbformat_minor": 0,
  "metadata": {
    "colab": {
      "name": "techdevguide-longest_subsequence.ipynb",
      "version": "0.3.2",
      "provenance": [],
      "include_colab_link": true
    },
    "kernelspec": {
      "name": "python3",
      "display_name": "Python 3"
    }
  },
  "cells": [
    {
      "cell_type": "markdown",
      "metadata": {
        "id": "view-in-github",
        "colab_type": "text"
      },
      "source": [
        "<a href=\"https://colab.research.google.com/github/tsaiichi/techdevguide-practice/blob/master/techdevguide_longest_subsequence.ipynb\" target=\"_parent\"><img src=\"https://colab.research.google.com/assets/colab-badge.svg\" alt=\"Open In Colab\"/></a>"
      ]
    },
    {
      "metadata": {
        "id": "vTvh3GwX91su",
        "colab_type": "text"
      },
      "cell_type": "markdown",
      "source": [
        "# Former Coding Interview Question: Find longest word in dictionary that is a subsequence of a given string\n",
        "- from https://techdevguide.withgoogle.com/paths/foundational/find-longest-word-in-dictionary-that-subsequence-of-given-string/#code-challenge"
      ]
    },
    {
      "metadata": {
        "id": "d_sICXxCGFcd",
        "colab_type": "code",
        "colab": {}
      },
      "cell_type": "code",
      "source": [
        "!python --version"
      ],
      "execution_count": 0,
      "outputs": []
    },
    {
      "metadata": {
        "id": "Qz8sVQ_eIYwN",
        "colab_type": "text"
      },
      "cell_type": "markdown",
      "source": [
        "# 官網的參考答案\n",
        "- for...else 語法：如果在 for 裡沒有發生 break，會跑到 else 執行"
      ]
    },
    {
      "metadata": {
        "id": "c6R7DEaC96T3",
        "colab_type": "code",
        "colab": {}
      },
      "cell_type": "code",
      "source": [
        "import collections\n",
        "import sys\n",
        "def find_longest_word_in_string(letters, words):\n",
        "    letter_positions = collections.defaultdict(list)\n",
        "    # For each letter in 'letters', collect all the indices at which it appears.\n",
        "    # O(#letters) space and speed.\n",
        "    for index, letter in enumerate(letters):\n",
        "        letter_positions[letter].append(index)\n",
        "    # For words, in descending order by length...\n",
        "    # Bails out early on first matched word, and within word on\n",
        "    # impossible letter/position combinations, but worst case is\n",
        "    # O(#words # avg-len) * O(#letters / 26) time; constant space.\n",
        "    # With some work, could be O(#W * avg-len) * log2(#letters/26)\n",
        "    # But since binary search has more overhead\n",
        "    # than simple iteration, log2(#letters) is about as \n",
        "    # expensive as simple iterations as long as \n",
        "    # the length of the arrays for each letter is\n",
        "    # “small”.  If letters are randomly present in the\n",
        "    # search string, the log2 is about equal in speed to simple traversal\n",
        "    # up to lengths of a few hundred characters.              \n",
        "    for word in sorted(words, key=lambda w: len(w), reverse=True):\n",
        "        pos = 0\n",
        "        for letter in word:\n",
        "            if letter not in letter_positions:\n",
        "                break\n",
        "            # Find any remaining valid positions in search string where this\n",
        "            # letter appears.  It would be better to do this with binary search,\n",
        "            # but this is very Python-ic.\n",
        "            possible_positions = [p for p in letter_positions[letter] if p >= pos]\n",
        "            if not possible_positions:\n",
        "                break\n",
        "            pos = possible_positions[0] + 1\n",
        "        else:\n",
        "            # We didn't break out of the loop, so all letters have valid positions  \n",
        "            return word"
      ],
      "execution_count": 0,
      "outputs": []
    },
    {
      "metadata": {
        "id": "LOcNoCsECJs5",
        "colab_type": "text"
      },
      "cell_type": "markdown",
      "source": [
        "# 步驟拆解\n",
        "\n",
        "- 將母字串中，字母出現的 index 記下來"
      ]
    },
    {
      "metadata": {
        "id": "bvYddRMb9pq3",
        "colab_type": "code",
        "colab": {}
      },
      "cell_type": "code",
      "source": [
        "import collections\n",
        "letter_positions = collections.defaultdict(list)\n",
        "\n",
        "letters = \"abppplee\"\n",
        "\n",
        "for index, letter in enumerate(letters):\n",
        "    letter_positions[letter].append(index)\n",
        "\n",
        "letter_positions"
      ],
      "execution_count": 0,
      "outputs": []
    },
    {
      "metadata": {
        "id": "4fSw5wXmCaB-",
        "colab_type": "text"
      },
      "cell_type": "markdown",
      "source": [
        "- 因為要取得最長的那個字，將待比對的子字串們依照長度由長至短排序"
      ]
    },
    {
      "metadata": {
        "id": "QC4yZwey-udK",
        "colab_type": "code",
        "colab": {}
      },
      "cell_type": "code",
      "source": [
        "b = [word for word in sorted([\"able\", \"ale\", \"apple\", \"bale\", \"kangaroo\"], key=lambda w: len(w), reverse=True)]\n",
        "b"
      ],
      "execution_count": 0,
      "outputs": []
    },
    {
      "metadata": {
        "id": "Ubjep0m1HfuA",
        "colab_type": "text"
      },
      "cell_type": "markdown",
      "source": [
        "- 取這個字在 pos 後最早發生的位置，如果有 pos 則移到下一個位置"
      ]
    },
    {
      "metadata": {
        "id": "DvuvBL23BXRF",
        "colab_type": "code",
        "colab": {}
      },
      "cell_type": "code",
      "source": [
        "pos = 0\n",
        "for letter in b[1]:\n",
        "    \n",
        "    possible_positions = [p for p in letter_positions[letter] if p >= pos]\n",
        "    if not possible_positions:\n",
        "        break\n",
        "    pos = possible_positions[0] +1\n",
        "    print(letter, possible_positions, pos)"
      ],
      "execution_count": 0,
      "outputs": []
    },
    {
      "metadata": {
        "id": "svT-1KvoC29T",
        "colab_type": "code",
        "colab": {}
      },
      "cell_type": "code",
      "source": [
        "ans = find_longest_word_in_string(\"abppplee\", [\"able\", \"ale\", \"apple\", \"bale\", \"kangaroo\"])\n",
        "ans"
      ],
      "execution_count": 0,
      "outputs": []
    }
  ]
}